{
  "cells": [
    {
      "cell_type": "markdown",
      "metadata": {
        "id": "BNnS2oh0HKUB"
      },
      "source": [
        "# Animal Classifier CNN\n",
        "\n",
        "The following file will integrate a CNN aiming at using the `Animals-10` dataset in order to correctly classify them according to their species. Multiple different hyper parameters, transformations and models will be used through transfer learning to test out different configurations and determine which configuration leads to the best performance.\n",
        "\n",
        "In order to maintain the code clean, the project will incorporate several helper functions, and will be modularized in the `utils` folder to keep the `main.ipynb` file as clean as possible.\n",
        "\n",
        "Throughout the project, the structure can be seen in the outline where after setting up the foundations, the project will focus on tweaking parameters and assessing their performance through tensor board and our own manual prints.\n",
        "\n"
      ]
    },
    {
      "cell_type": "markdown",
      "metadata": {
        "id": "aqy0SVRRHKUC"
      },
      "source": [
        "## 0. Setup"
      ]
    },
    {
      "cell_type": "code",
      "execution_count": 1,
      "metadata": {
        "id": "Xzyf1bTlHKUC",
        "outputId": "6b562f52-7d62-442d-dc32-6805c72a4ee4",
        "colab": {
          "base_uri": "https://localhost:8080/"
        }
      },
      "outputs": [
        {
          "output_type": "stream",
          "name": "stdout",
          "text": [
            "torch version: 2.5.1+cu124\n",
            "torchvision version: 0.20.1+cu124\n"
          ]
        }
      ],
      "source": [
        "try:\n",
        "    import torch\n",
        "    import torchvision\n",
        "    assert int(torch.__version__.split(\".\")[0]) >= 2, \"torch version should be 2.+\"\n",
        "    assert int(torchvision.__version__.split(\".\")[1]) >= 15, \"torchvision version should be 0.15+\"\n",
        "    print(f\"torch version: {torch.__version__}\")\n",
        "    print(f\"torchvision version: {torchvision.__version__}\")\n",
        "except:\n",
        "    print(f\"[INFO] torch/torchvision versions not correct. Installing correct versions.\")\n",
        "    !pip3 install -U torch torchvision torchaudio --extra-index-url https://download.pytorch.org/whl/cu113\n",
        "    import torch\n",
        "    import torchvision\n",
        "    print(f\"torch version: {torch.__version__}\")\n",
        "    print(f\"torchvision version: {torchvision.__version__}\")\n",
        "\n",
        "from torch import nn\n",
        "from torchvision import transforms\n",
        "import matplotlib as plt\n",
        "\n",
        "try:\n",
        "    from torchinfo import summary\n",
        "except:\n",
        "    print(\"[INFO] Couldn't find torchinfo... installing it\")\n",
        "    !pip install -q torchinfo\n",
        "    from torchinfo import summary\n",
        "\n",
        "try:\n",
        "    from tqdm.auto import tqdm\n",
        "except:\n",
        "    print(f\"[INFO] Couldnt't find tqdm... installing it \")\n",
        "    !pip install tqdm\n",
        "    from tqdm.auto import tqdm\n"
      ]
    },
    {
      "cell_type": "code",
      "source": [
        "try:\n",
        "    from torchinfo import summary\n",
        "except ImportError:\n",
        "    print(\"[INFO] Couldn't find torchinfo... installing it\")\n",
        "    !pip install -q torchinfo\n",
        "    from torchinfo import summary\n",
        "\n",
        "# Ensure splitfolders is installed\n",
        "try:\n",
        "    import splitfolders\n",
        "except ImportError:\n",
        "    print(\"[INFO] Installing splitfolders...\")\n",
        "    !pip install -q split-folders\n",
        "    import splitfolders\n",
        "\n",
        "try:\n",
        "    from project_modules import data_setup, engine, get_data, model_builder, predictions, train, save_model, helper_functions\n",
        "except ImportError:\n",
        "    print(\"[INFO] Could not find project_modules scripts. Downloading them from GitHub.\")\n",
        "    !git clone https://github.com/Aaron-Serpilin/Animal-Classifier\n",
        "    # Move both project modules and the data folder to the current directory\n",
        "    !mv Animal-Classifier/project_modules .\n",
        "    !mv Animal-Classifier/data .\n",
        "    !rm -rf Animal-Classifier\n",
        "    from project_modules import data_setup, engine, get_data, model_builder, predictions, train, save_model, helper_functions\n"
      ],
      "metadata": {
        "id": "hC2qZ6QoHOMs",
        "outputId": "7f2e2440-ce59-458b-fd68-2b870dd83c49",
        "colab": {
          "base_uri": "https://localhost:8080/"
        }
      },
      "execution_count": 3,
      "outputs": [
        {
          "output_type": "stream",
          "name": "stdout",
          "text": [
            "[INFO] Could not find project_modules scripts. Downloading them from GitHub.\n",
            "Cloning into 'Animal-Classifier'...\n",
            "remote: Enumerating objects: 26241, done.\u001b[K\n",
            "remote: Counting objects: 100% (11/11), done.\u001b[K\n",
            "remote: Compressing objects: 100% (8/8), done.\u001b[K\n",
            "remote: Total 26241 (delta 5), reused 9 (delta 3), pack-reused 26230 (from 1)\u001b[K\n",
            "Receiving objects: 100% (26241/26241), 581.78 MiB | 40.93 MiB/s, done.\n",
            "Resolving deltas: 100% (16/16), done.\n",
            "Updating files: 100% (54850/54850), done.\n",
            "Train and Test sets Ready.\n"
          ]
        }
      ]
    }
  ],
  "metadata": {
    "kernelspec": {
      "display_name": "Python 3",
      "name": "python3"
    },
    "language_info": {
      "codemirror_mode": {
        "name": "ipython",
        "version": 3
      },
      "file_extension": ".py",
      "mimetype": "text/x-python",
      "name": "python",
      "nbconvert_exporter": "python",
      "pygments_lexer": "ipython3",
      "version": "3.11.4"
    },
    "colab": {
      "provenance": [],
      "gpuType": "T4"
    },
    "accelerator": "GPU"
  },
  "nbformat": 4,
  "nbformat_minor": 0
}